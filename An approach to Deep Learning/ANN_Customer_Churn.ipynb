{
  "nbformat": 4,
  "nbformat_minor": 0,
  "metadata": {
    "colab": {
      "name": "ANN Customer Churn.ipynb",
      "provenance": [],
      "collapsed_sections": []
    },
    "kernelspec": {
      "name": "python3",
      "display_name": "Python 3"
    }
  },
  "cells": [
    {
      "cell_type": "code",
      "metadata": {
        "id": "balb0oCmLhH-",
        "colab_type": "code",
        "colab": {}
      },
      "source": [
        "import tensorflow\n",
        "import keras\n",
        "import tensorflow as tf\n",
        "import pandas as pd\n",
        "import numpy as np\n",
        "import matplotlib.pyplot as plt"
      ],
      "execution_count": 0,
      "outputs": []
    },
    {
      "cell_type": "code",
      "metadata": {
        "id": "_jnTjEZwLq29",
        "colab_type": "code",
        "colab": {
          "resources": {
            "http://localhost:8080/nbextensions/google.colab/files.js": {
              "data": "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",
              "ok": true,
              "headers": [
                [
                  "content-type",
                  "application/javascript"
                ]
              ],
              "status": 200,
              "status_text": ""
            }
          },
          "base_uri": "https://localhost:8080/",
          "height": 74
        },
        "outputId": "2e1d42f4-0553-4863-81d8-c4fe2b721df8"
      },
      "source": [
        "# Part 1 - Data Preprocessing\n",
        "# Importing the dataset\n",
        "from google.colab import files\n",
        "uploaded = files.upload()\n"
      ],
      "execution_count": 10,
      "outputs": [
        {
          "output_type": "display_data",
          "data": {
            "text/html": [
              "\n",
              "     <input type=\"file\" id=\"files-143933d8-d7bf-4b14-96ec-22dcacc1f44c\" name=\"files[]\" multiple disabled />\n",
              "     <output id=\"result-143933d8-d7bf-4b14-96ec-22dcacc1f44c\">\n",
              "      Upload widget is only available when the cell has been executed in the\n",
              "      current browser session. Please rerun this cell to enable.\n",
              "      </output>\n",
              "      <script src=\"/nbextensions/google.colab/files.js\"></script> "
            ],
            "text/plain": [
              "<IPython.core.display.HTML object>"
            ]
          },
          "metadata": {
            "tags": []
          }
        },
        {
          "output_type": "stream",
          "text": [
            "Saving Churn_Modelling.csv to Churn_Modelling.csv\n"
          ],
          "name": "stdout"
        }
      ]
    },
    {
      "cell_type": "code",
      "metadata": {
        "id": "PIsBF6QANY24",
        "colab_type": "code",
        "colab": {
          "base_uri": "https://localhost:8080/",
          "height": 419
        },
        "outputId": "1feab136-974b-43dc-e62f-36f68db09cf2"
      },
      "source": [
        "import io\n",
        "dataset = pd.read_csv(io.BytesIO(uploaded['Churn_Modelling.csv']))\n",
        "dataset"
      ],
      "execution_count": 17,
      "outputs": [
        {
          "output_type": "execute_result",
          "data": {
            "text/html": [
              "<div>\n",
              "<style scoped>\n",
              "    .dataframe tbody tr th:only-of-type {\n",
              "        vertical-align: middle;\n",
              "    }\n",
              "\n",
              "    .dataframe tbody tr th {\n",
              "        vertical-align: top;\n",
              "    }\n",
              "\n",
              "    .dataframe thead th {\n",
              "        text-align: right;\n",
              "    }\n",
              "</style>\n",
              "<table border=\"1\" class=\"dataframe\">\n",
              "  <thead>\n",
              "    <tr style=\"text-align: right;\">\n",
              "      <th></th>\n",
              "      <th>RowNumber</th>\n",
              "      <th>CustomerId</th>\n",
              "      <th>Surname</th>\n",
              "      <th>CreditScore</th>\n",
              "      <th>Geography</th>\n",
              "      <th>Gender</th>\n",
              "      <th>Age</th>\n",
              "      <th>Tenure</th>\n",
              "      <th>Balance</th>\n",
              "      <th>NumOfProducts</th>\n",
              "      <th>HasCrCard</th>\n",
              "      <th>IsActiveMember</th>\n",
              "      <th>EstimatedSalary</th>\n",
              "      <th>Exited</th>\n",
              "    </tr>\n",
              "  </thead>\n",
              "  <tbody>\n",
              "    <tr>\n",
              "      <th>0</th>\n",
              "      <td>1</td>\n",
              "      <td>15634602</td>\n",
              "      <td>Hargrave</td>\n",
              "      <td>619</td>\n",
              "      <td>France</td>\n",
              "      <td>Female</td>\n",
              "      <td>42</td>\n",
              "      <td>2</td>\n",
              "      <td>0.00</td>\n",
              "      <td>1</td>\n",
              "      <td>1</td>\n",
              "      <td>1</td>\n",
              "      <td>101348.88</td>\n",
              "      <td>1</td>\n",
              "    </tr>\n",
              "    <tr>\n",
              "      <th>1</th>\n",
              "      <td>2</td>\n",
              "      <td>15647311</td>\n",
              "      <td>Hill</td>\n",
              "      <td>608</td>\n",
              "      <td>Spain</td>\n",
              "      <td>Female</td>\n",
              "      <td>41</td>\n",
              "      <td>1</td>\n",
              "      <td>83807.86</td>\n",
              "      <td>1</td>\n",
              "      <td>0</td>\n",
              "      <td>1</td>\n",
              "      <td>112542.58</td>\n",
              "      <td>0</td>\n",
              "    </tr>\n",
              "    <tr>\n",
              "      <th>2</th>\n",
              "      <td>3</td>\n",
              "      <td>15619304</td>\n",
              "      <td>Onio</td>\n",
              "      <td>502</td>\n",
              "      <td>France</td>\n",
              "      <td>Female</td>\n",
              "      <td>42</td>\n",
              "      <td>8</td>\n",
              "      <td>159660.80</td>\n",
              "      <td>3</td>\n",
              "      <td>1</td>\n",
              "      <td>0</td>\n",
              "      <td>113931.57</td>\n",
              "      <td>1</td>\n",
              "    </tr>\n",
              "    <tr>\n",
              "      <th>3</th>\n",
              "      <td>4</td>\n",
              "      <td>15701354</td>\n",
              "      <td>Boni</td>\n",
              "      <td>699</td>\n",
              "      <td>France</td>\n",
              "      <td>Female</td>\n",
              "      <td>39</td>\n",
              "      <td>1</td>\n",
              "      <td>0.00</td>\n",
              "      <td>2</td>\n",
              "      <td>0</td>\n",
              "      <td>0</td>\n",
              "      <td>93826.63</td>\n",
              "      <td>0</td>\n",
              "    </tr>\n",
              "    <tr>\n",
              "      <th>4</th>\n",
              "      <td>5</td>\n",
              "      <td>15737888</td>\n",
              "      <td>Mitchell</td>\n",
              "      <td>850</td>\n",
              "      <td>Spain</td>\n",
              "      <td>Female</td>\n",
              "      <td>43</td>\n",
              "      <td>2</td>\n",
              "      <td>125510.82</td>\n",
              "      <td>1</td>\n",
              "      <td>1</td>\n",
              "      <td>1</td>\n",
              "      <td>79084.10</td>\n",
              "      <td>0</td>\n",
              "    </tr>\n",
              "    <tr>\n",
              "      <th>...</th>\n",
              "      <td>...</td>\n",
              "      <td>...</td>\n",
              "      <td>...</td>\n",
              "      <td>...</td>\n",
              "      <td>...</td>\n",
              "      <td>...</td>\n",
              "      <td>...</td>\n",
              "      <td>...</td>\n",
              "      <td>...</td>\n",
              "      <td>...</td>\n",
              "      <td>...</td>\n",
              "      <td>...</td>\n",
              "      <td>...</td>\n",
              "      <td>...</td>\n",
              "    </tr>\n",
              "    <tr>\n",
              "      <th>9995</th>\n",
              "      <td>9996</td>\n",
              "      <td>15606229</td>\n",
              "      <td>Obijiaku</td>\n",
              "      <td>771</td>\n",
              "      <td>France</td>\n",
              "      <td>Male</td>\n",
              "      <td>39</td>\n",
              "      <td>5</td>\n",
              "      <td>0.00</td>\n",
              "      <td>2</td>\n",
              "      <td>1</td>\n",
              "      <td>0</td>\n",
              "      <td>96270.64</td>\n",
              "      <td>0</td>\n",
              "    </tr>\n",
              "    <tr>\n",
              "      <th>9996</th>\n",
              "      <td>9997</td>\n",
              "      <td>15569892</td>\n",
              "      <td>Johnstone</td>\n",
              "      <td>516</td>\n",
              "      <td>France</td>\n",
              "      <td>Male</td>\n",
              "      <td>35</td>\n",
              "      <td>10</td>\n",
              "      <td>57369.61</td>\n",
              "      <td>1</td>\n",
              "      <td>1</td>\n",
              "      <td>1</td>\n",
              "      <td>101699.77</td>\n",
              "      <td>0</td>\n",
              "    </tr>\n",
              "    <tr>\n",
              "      <th>9997</th>\n",
              "      <td>9998</td>\n",
              "      <td>15584532</td>\n",
              "      <td>Liu</td>\n",
              "      <td>709</td>\n",
              "      <td>France</td>\n",
              "      <td>Female</td>\n",
              "      <td>36</td>\n",
              "      <td>7</td>\n",
              "      <td>0.00</td>\n",
              "      <td>1</td>\n",
              "      <td>0</td>\n",
              "      <td>1</td>\n",
              "      <td>42085.58</td>\n",
              "      <td>1</td>\n",
              "    </tr>\n",
              "    <tr>\n",
              "      <th>9998</th>\n",
              "      <td>9999</td>\n",
              "      <td>15682355</td>\n",
              "      <td>Sabbatini</td>\n",
              "      <td>772</td>\n",
              "      <td>Germany</td>\n",
              "      <td>Male</td>\n",
              "      <td>42</td>\n",
              "      <td>3</td>\n",
              "      <td>75075.31</td>\n",
              "      <td>2</td>\n",
              "      <td>1</td>\n",
              "      <td>0</td>\n",
              "      <td>92888.52</td>\n",
              "      <td>1</td>\n",
              "    </tr>\n",
              "    <tr>\n",
              "      <th>9999</th>\n",
              "      <td>10000</td>\n",
              "      <td>15628319</td>\n",
              "      <td>Walker</td>\n",
              "      <td>792</td>\n",
              "      <td>France</td>\n",
              "      <td>Female</td>\n",
              "      <td>28</td>\n",
              "      <td>4</td>\n",
              "      <td>130142.79</td>\n",
              "      <td>1</td>\n",
              "      <td>1</td>\n",
              "      <td>0</td>\n",
              "      <td>38190.78</td>\n",
              "      <td>0</td>\n",
              "    </tr>\n",
              "  </tbody>\n",
              "</table>\n",
              "<p>10000 rows × 14 columns</p>\n",
              "</div>"
            ],
            "text/plain": [
              "      RowNumber  CustomerId    Surname  ...  IsActiveMember EstimatedSalary Exited\n",
              "0             1    15634602   Hargrave  ...               1       101348.88      1\n",
              "1             2    15647311       Hill  ...               1       112542.58      0\n",
              "2             3    15619304       Onio  ...               0       113931.57      1\n",
              "3             4    15701354       Boni  ...               0        93826.63      0\n",
              "4             5    15737888   Mitchell  ...               1        79084.10      0\n",
              "...         ...         ...        ...  ...             ...             ...    ...\n",
              "9995       9996    15606229   Obijiaku  ...               0        96270.64      0\n",
              "9996       9997    15569892  Johnstone  ...               1       101699.77      0\n",
              "9997       9998    15584532        Liu  ...               1        42085.58      1\n",
              "9998       9999    15682355  Sabbatini  ...               0        92888.52      1\n",
              "9999      10000    15628319     Walker  ...               0        38190.78      0\n",
              "\n",
              "[10000 rows x 14 columns]"
            ]
          },
          "metadata": {
            "tags": []
          },
          "execution_count": 17
        }
      ]
    },
    {
      "cell_type": "code",
      "metadata": {
        "id": "EpVvdV2CQQyJ",
        "colab_type": "code",
        "colab": {}
      },
      "source": [
        "X = dataset.iloc[:, 3:13]\n",
        "y = dataset.iloc[:, 13]"
      ],
      "execution_count": 0,
      "outputs": []
    },
    {
      "cell_type": "code",
      "metadata": {
        "id": "AIj37VJhQxsq",
        "colab_type": "code",
        "colab": {}
      },
      "source": [
        "#Create dummy variables\n",
        "geography=pd.get_dummies(X[\"Geography\"],drop_first=True)\n",
        "gender=pd.get_dummies(X['Gender'],drop_first=True)"
      ],
      "execution_count": 0,
      "outputs": []
    },
    {
      "cell_type": "code",
      "metadata": {
        "id": "_66CNGEMS8I8",
        "colab_type": "code",
        "colab": {}
      },
      "source": [
        "## Concatenate the Data Frames\n",
        "\n",
        "X=pd.concat([X,geography,gender],axis=1)"
      ],
      "execution_count": 0,
      "outputs": []
    },
    {
      "cell_type": "code",
      "metadata": {
        "id": "MBj-jjWSTAo2",
        "colab_type": "code",
        "colab": {}
      },
      "source": [
        "## Drop Unnecessary columns\n",
        "X=X.drop(['Geography','Gender'],axis=1)"
      ],
      "execution_count": 0,
      "outputs": []
    },
    {
      "cell_type": "code",
      "metadata": {
        "id": "eEimOTC8TDkD",
        "colab_type": "code",
        "colab": {}
      },
      "source": [
        "# Splitting the dataset into the Training set and Test set\n",
        "from sklearn.model_selection import train_test_split\n",
        "X_train, X_test, y_train, y_test = train_test_split(X, y, test_size = 0.2, random_state = 0)\n"
      ],
      "execution_count": 0,
      "outputs": []
    },
    {
      "cell_type": "code",
      "metadata": {
        "id": "R3nHXip7THBk",
        "colab_type": "code",
        "colab": {}
      },
      "source": [
        "# Feature Scaling\n",
        "from sklearn.preprocessing import StandardScaler\n",
        "sc = StandardScaler()\n",
        "X_train = sc.fit_transform(X_train)\n",
        "X_test = sc.transform(X_test)"
      ],
      "execution_count": 0,
      "outputs": []
    },
    {
      "cell_type": "code",
      "metadata": {
        "id": "pzToIoALTWOs",
        "colab_type": "code",
        "colab": {}
      },
      "source": [
        "# Part 2 - Now let's make the ANN!\n",
        "\n",
        "# Importing the Keras libraries and packages\n",
        "import keras\n",
        "from keras.models import Sequential     #responsible for creating any kid of NN like ANN, CNN, RNN\n",
        "from keras.layers import Dense          #for creating hidden layers\n",
        "#from keras.layers import LeakyReLU,PReLU,ELU      #Diffrent types of activation functions\n",
        "from keras.layers import Dropout        #A regularization parameter used for regularization of dataset"
      ],
      "execution_count": 0,
      "outputs": []
    },
    {
      "cell_type": "code",
      "metadata": {
        "id": "KgJ3uIOyUjEh",
        "colab_type": "code",
        "colab": {
          "base_uri": "https://localhost:8080/",
          "height": 71
        },
        "outputId": "f7504e13-4376-41b1-b3b1-e926097c9215"
      },
      "source": [
        "# Initialising the ANN\n",
        "classifier = Sequential()"
      ],
      "execution_count": 37,
      "outputs": [
        {
          "output_type": "stream",
          "text": [
            "WARNING:tensorflow:From /usr/local/lib/python3.6/dist-packages/keras/backend/tensorflow_backend.py:66: The name tf.get_default_graph is deprecated. Please use tf.compat.v1.get_default_graph instead.\n",
            "\n"
          ],
          "name": "stdout"
        }
      ]
    },
    {
      "cell_type": "code",
      "metadata": {
        "id": "wPymt3haVKt-",
        "colab_type": "code",
        "colab": {}
      },
      "source": [
        "# Adding the input layer and the first hidden layer\n",
        "classifier.add(Dense(units = 6, kernel_initializer = 'he_uniform',activation='relu',input_dim = 11))    #output_dim means the number of neurons in 1st hidden layer output dimention got updated as units\n",
        "                                                                                                        #init means the weight initialization techniques that we are using but init is got updated as kernel_initializer\n",
        "                                                                                                        #activation means the activatio function that we are using\n",
        "                                                                                                        #input_dim means how many inupt features are connected to the hidden layer\n"
      ],
      "execution_count": 0,
      "outputs": []
    },
    {
      "cell_type": "code",
      "metadata": {
        "id": "YhtxOilVWzA7",
        "colab_type": "code",
        "colab": {}
      },
      "source": [
        "# Adding the second hidden layer\n",
        "classifier.add(Dense(units = 6, kernel_initializer = 'he_uniform',activation='relu'))"
      ],
      "execution_count": 0,
      "outputs": []
    },
    {
      "cell_type": "code",
      "metadata": {
        "id": "xNKH1-E9Vf7s",
        "colab_type": "code",
        "colab": {}
      },
      "source": [
        "# Adding the output layer\n",
        "classifier.add(Dense(units = 1, kernel_initializer = 'glorot_uniform', activation = 'sigmoid'))"
      ],
      "execution_count": 0,
      "outputs": []
    },
    {
      "cell_type": "code",
      "metadata": {
        "id": "wDKhN0VmXI5i",
        "colab_type": "code",
        "colab": {
          "base_uri": "https://localhost:8080/",
          "height": 357
        },
        "outputId": "6d537aba-8bc6-4493-a475-5702034c735e"
      },
      "source": [
        "classifier.summary()"
      ],
      "execution_count": 44,
      "outputs": [
        {
          "output_type": "stream",
          "text": [
            "Model: \"sequential_1\"\n",
            "_________________________________________________________________\n",
            "Layer (type)                 Output Shape              Param #   \n",
            "=================================================================\n",
            "dense_1 (Dense)              (None, 6)                 72        \n",
            "_________________________________________________________________\n",
            "dense_2 (Dense)              (None, 6)                 42        \n",
            "_________________________________________________________________\n",
            "dense_3 (Dense)              (None, 6)                 42        \n",
            "_________________________________________________________________\n",
            "dense_4 (Dense)              (None, 6)                 42        \n",
            "_________________________________________________________________\n",
            "dense_5 (Dense)              (None, 6)                 42        \n",
            "_________________________________________________________________\n",
            "dense_6 (Dense)              (None, 1)                 7         \n",
            "=================================================================\n",
            "Total params: 247\n",
            "Trainable params: 247\n",
            "Non-trainable params: 0\n",
            "_________________________________________________________________\n"
          ],
          "name": "stdout"
        }
      ]
    },
    {
      "cell_type": "code",
      "metadata": {
        "id": "Xo0Lc4RwYf1b",
        "colab_type": "code",
        "colab": {}
      },
      "source": [
        "# Compiling the ANN\n",
        "classifier.compile(optimizer = 'Adam', loss = 'binary_crossentropy', metrics = ['accuracy'])   #optimizer Adam is best for compiling\n",
        "                                                                                               #Loss is binary_crossentropy beacause we are using categorical output as 0 and 1 if a regression problem we should use categorical_crossentropy\n"
      ],
      "execution_count": 0,
      "outputs": []
    },
    {
      "cell_type": "code",
      "metadata": {
        "id": "sfCqZry-ZeoA",
        "colab_type": "code",
        "colab": {
          "base_uri": "https://localhost:8080/",
          "height": 1000
        },
        "outputId": "bf213448-2cf5-4b2a-8d88-f8c36c249cb4"
      },
      "source": [
        "# Fitting the ANN to the Training set\n",
        "model_history=classifier.fit(X_train, y_train,validation_split=0.33, batch_size = 10, nb_epoch = 100)      #Advantages of using a batch size < number of all samples: It requires less memory. Since you train the network using fewer samples, the overall training procedure requires less memory. and uses less time and less space in Ram\n",
        "                                                                                                           #nb_epoch is number of epoch its gonna tak while training"
      ],
      "execution_count": 47,
      "outputs": [
        {
          "output_type": "stream",
          "text": [
            "/usr/local/lib/python3.6/dist-packages/ipykernel_launcher.py:1: UserWarning: The `nb_epoch` argument in `fit` has been renamed `epochs`.\n",
            "  \"\"\"Entry point for launching an IPython kernel.\n"
          ],
          "name": "stderr"
        },
        {
          "output_type": "stream",
          "text": [
            "WARNING:tensorflow:From /usr/local/lib/python3.6/dist-packages/keras/backend/tensorflow_backend.py:1033: The name tf.assign_add is deprecated. Please use tf.compat.v1.assign_add instead.\n",
            "\n",
            "WARNING:tensorflow:From /usr/local/lib/python3.6/dist-packages/keras/backend/tensorflow_backend.py:1020: The name tf.assign is deprecated. Please use tf.compat.v1.assign instead.\n",
            "\n",
            "WARNING:tensorflow:From /usr/local/lib/python3.6/dist-packages/keras/backend/tensorflow_backend.py:3005: The name tf.Session is deprecated. Please use tf.compat.v1.Session instead.\n",
            "\n",
            "Train on 5359 samples, validate on 2641 samples\n",
            "Epoch 1/100\n",
            "WARNING:tensorflow:From /usr/local/lib/python3.6/dist-packages/keras/backend/tensorflow_backend.py:190: The name tf.get_default_session is deprecated. Please use tf.compat.v1.get_default_session instead.\n",
            "\n",
            "WARNING:tensorflow:From /usr/local/lib/python3.6/dist-packages/keras/backend/tensorflow_backend.py:197: The name tf.ConfigProto is deprecated. Please use tf.compat.v1.ConfigProto instead.\n",
            "\n",
            "WARNING:tensorflow:From /usr/local/lib/python3.6/dist-packages/keras/backend/tensorflow_backend.py:207: The name tf.global_variables is deprecated. Please use tf.compat.v1.global_variables instead.\n",
            "\n",
            "WARNING:tensorflow:From /usr/local/lib/python3.6/dist-packages/keras/backend/tensorflow_backend.py:216: The name tf.is_variable_initialized is deprecated. Please use tf.compat.v1.is_variable_initialized instead.\n",
            "\n",
            "WARNING:tensorflow:From /usr/local/lib/python3.6/dist-packages/keras/backend/tensorflow_backend.py:223: The name tf.variables_initializer is deprecated. Please use tf.compat.v1.variables_initializer instead.\n",
            "\n",
            "5359/5359 [==============================] - 2s 313us/step - loss: 0.5302 - acc: 0.7792 - val_loss: 0.4857 - val_acc: 0.7955\n",
            "Epoch 2/100\n",
            "5359/5359 [==============================] - 1s 159us/step - loss: 0.4688 - acc: 0.7988 - val_loss: 0.4567 - val_acc: 0.8042\n",
            "Epoch 3/100\n",
            "5359/5359 [==============================] - 1s 162us/step - loss: 0.4454 - acc: 0.8115 - val_loss: 0.4486 - val_acc: 0.8084\n",
            "Epoch 4/100\n",
            "5359/5359 [==============================] - 1s 163us/step - loss: 0.4315 - acc: 0.8140 - val_loss: 0.4324 - val_acc: 0.8073\n",
            "Epoch 5/100\n",
            "5359/5359 [==============================] - 1s 162us/step - loss: 0.4125 - acc: 0.8177 - val_loss: 0.4170 - val_acc: 0.8167\n",
            "Epoch 6/100\n",
            "5359/5359 [==============================] - 1s 164us/step - loss: 0.3956 - acc: 0.8304 - val_loss: 0.4092 - val_acc: 0.8277\n",
            "Epoch 7/100\n",
            "5359/5359 [==============================] - 1s 166us/step - loss: 0.3798 - acc: 0.8423 - val_loss: 0.3951 - val_acc: 0.8281\n",
            "Epoch 8/100\n",
            "5359/5359 [==============================] - 1s 162us/step - loss: 0.3714 - acc: 0.8462 - val_loss: 0.3898 - val_acc: 0.8296\n",
            "Epoch 9/100\n",
            "5359/5359 [==============================] - 1s 160us/step - loss: 0.3669 - acc: 0.8477 - val_loss: 0.4054 - val_acc: 0.8360\n",
            "Epoch 10/100\n",
            "5359/5359 [==============================] - 1s 163us/step - loss: 0.3632 - acc: 0.8461 - val_loss: 0.3859 - val_acc: 0.8376\n",
            "Epoch 11/100\n",
            "5359/5359 [==============================] - 1s 165us/step - loss: 0.3587 - acc: 0.8507 - val_loss: 0.3879 - val_acc: 0.8425\n",
            "Epoch 12/100\n",
            "5359/5359 [==============================] - 1s 164us/step - loss: 0.3551 - acc: 0.8509 - val_loss: 0.3816 - val_acc: 0.8406\n",
            "Epoch 13/100\n",
            "5359/5359 [==============================] - 1s 162us/step - loss: 0.3526 - acc: 0.8496 - val_loss: 0.3851 - val_acc: 0.8338\n",
            "Epoch 14/100\n",
            "5359/5359 [==============================] - 1s 161us/step - loss: 0.3518 - acc: 0.8535 - val_loss: 0.3795 - val_acc: 0.8436\n",
            "Epoch 15/100\n",
            "5359/5359 [==============================] - 1s 164us/step - loss: 0.3493 - acc: 0.8526 - val_loss: 0.3785 - val_acc: 0.8448\n",
            "Epoch 16/100\n",
            "5359/5359 [==============================] - 1s 163us/step - loss: 0.3484 - acc: 0.8554 - val_loss: 0.3796 - val_acc: 0.8406\n",
            "Epoch 17/100\n",
            "5359/5359 [==============================] - 1s 160us/step - loss: 0.3481 - acc: 0.8559 - val_loss: 0.3776 - val_acc: 0.8459\n",
            "Epoch 18/100\n",
            "5359/5359 [==============================] - 1s 162us/step - loss: 0.3468 - acc: 0.8571 - val_loss: 0.3754 - val_acc: 0.8455\n",
            "Epoch 19/100\n",
            "5359/5359 [==============================] - 1s 160us/step - loss: 0.3462 - acc: 0.8569 - val_loss: 0.3746 - val_acc: 0.8440\n",
            "Epoch 20/100\n",
            "5359/5359 [==============================] - 1s 162us/step - loss: 0.3455 - acc: 0.8584 - val_loss: 0.3742 - val_acc: 0.8459\n",
            "Epoch 21/100\n",
            "5359/5359 [==============================] - 1s 171us/step - loss: 0.3452 - acc: 0.8584 - val_loss: 0.3738 - val_acc: 0.8444\n",
            "Epoch 22/100\n",
            "5359/5359 [==============================] - 1s 162us/step - loss: 0.3435 - acc: 0.8595 - val_loss: 0.3739 - val_acc: 0.8459\n",
            "Epoch 23/100\n",
            "5359/5359 [==============================] - 1s 162us/step - loss: 0.3427 - acc: 0.8589 - val_loss: 0.3733 - val_acc: 0.8448\n",
            "Epoch 24/100\n",
            "5359/5359 [==============================] - 1s 162us/step - loss: 0.3415 - acc: 0.8593 - val_loss: 0.3737 - val_acc: 0.8429\n",
            "Epoch 25/100\n",
            "5359/5359 [==============================] - 1s 162us/step - loss: 0.3421 - acc: 0.8597 - val_loss: 0.3745 - val_acc: 0.8432\n",
            "Epoch 26/100\n",
            "5359/5359 [==============================] - 1s 163us/step - loss: 0.3404 - acc: 0.8612 - val_loss: 0.3724 - val_acc: 0.8455\n",
            "Epoch 27/100\n",
            "5359/5359 [==============================] - 1s 163us/step - loss: 0.3415 - acc: 0.8574 - val_loss: 0.3756 - val_acc: 0.8432\n",
            "Epoch 28/100\n",
            "5359/5359 [==============================] - 1s 161us/step - loss: 0.3398 - acc: 0.8612 - val_loss: 0.3736 - val_acc: 0.8440\n",
            "Epoch 29/100\n",
            "5359/5359 [==============================] - 1s 163us/step - loss: 0.3399 - acc: 0.8610 - val_loss: 0.3720 - val_acc: 0.8470\n",
            "Epoch 30/100\n",
            "5359/5359 [==============================] - 1s 159us/step - loss: 0.3393 - acc: 0.8614 - val_loss: 0.3732 - val_acc: 0.8444\n",
            "Epoch 31/100\n",
            "5359/5359 [==============================] - 1s 160us/step - loss: 0.3381 - acc: 0.8586 - val_loss: 0.3795 - val_acc: 0.8444\n",
            "Epoch 32/100\n",
            "5359/5359 [==============================] - 1s 159us/step - loss: 0.3377 - acc: 0.8623 - val_loss: 0.3725 - val_acc: 0.8466\n",
            "Epoch 33/100\n",
            "5359/5359 [==============================] - 1s 161us/step - loss: 0.3383 - acc: 0.8606 - val_loss: 0.3727 - val_acc: 0.8489\n",
            "Epoch 34/100\n",
            "5359/5359 [==============================] - 1s 165us/step - loss: 0.3377 - acc: 0.8619 - val_loss: 0.3757 - val_acc: 0.8444\n",
            "Epoch 35/100\n",
            "5359/5359 [==============================] - 1s 165us/step - loss: 0.3383 - acc: 0.8604 - val_loss: 0.3749 - val_acc: 0.8451\n",
            "Epoch 36/100\n",
            "5359/5359 [==============================] - 1s 160us/step - loss: 0.3369 - acc: 0.8615 - val_loss: 0.3719 - val_acc: 0.8482\n",
            "Epoch 37/100\n",
            "5359/5359 [==============================] - 1s 161us/step - loss: 0.3365 - acc: 0.8617 - val_loss: 0.3734 - val_acc: 0.8485\n",
            "Epoch 38/100\n",
            "5359/5359 [==============================] - 1s 162us/step - loss: 0.3362 - acc: 0.8608 - val_loss: 0.3764 - val_acc: 0.8474\n",
            "Epoch 39/100\n",
            "5359/5359 [==============================] - 1s 169us/step - loss: 0.3357 - acc: 0.8610 - val_loss: 0.3723 - val_acc: 0.8493\n",
            "Epoch 40/100\n",
            "5359/5359 [==============================] - 1s 179us/step - loss: 0.3347 - acc: 0.8623 - val_loss: 0.3723 - val_acc: 0.8478\n",
            "Epoch 41/100\n",
            "5359/5359 [==============================] - 1s 163us/step - loss: 0.3339 - acc: 0.8627 - val_loss: 0.3792 - val_acc: 0.8425\n",
            "Epoch 42/100\n",
            "5359/5359 [==============================] - 1s 169us/step - loss: 0.3341 - acc: 0.8628 - val_loss: 0.3759 - val_acc: 0.8466\n",
            "Epoch 43/100\n",
            "5359/5359 [==============================] - 1s 160us/step - loss: 0.3338 - acc: 0.8623 - val_loss: 0.3724 - val_acc: 0.8474\n",
            "Epoch 44/100\n",
            "5359/5359 [==============================] - 1s 162us/step - loss: 0.3314 - acc: 0.8630 - val_loss: 0.3781 - val_acc: 0.8482\n",
            "Epoch 45/100\n",
            "5359/5359 [==============================] - 1s 169us/step - loss: 0.3327 - acc: 0.8606 - val_loss: 0.3721 - val_acc: 0.8493\n",
            "Epoch 46/100\n",
            "5359/5359 [==============================] - 1s 161us/step - loss: 0.3320 - acc: 0.8632 - val_loss: 0.3787 - val_acc: 0.8459\n",
            "Epoch 47/100\n",
            "5359/5359 [==============================] - 1s 160us/step - loss: 0.3323 - acc: 0.8621 - val_loss: 0.3740 - val_acc: 0.8489\n",
            "Epoch 48/100\n",
            "5359/5359 [==============================] - 1s 171us/step - loss: 0.3299 - acc: 0.8627 - val_loss: 0.3757 - val_acc: 0.8466\n",
            "Epoch 49/100\n",
            "5359/5359 [==============================] - 1s 159us/step - loss: 0.3302 - acc: 0.8628 - val_loss: 0.3721 - val_acc: 0.8497\n",
            "Epoch 50/100\n",
            "5359/5359 [==============================] - 1s 160us/step - loss: 0.3305 - acc: 0.8619 - val_loss: 0.3756 - val_acc: 0.8489\n",
            "Epoch 51/100\n",
            "5359/5359 [==============================] - 1s 166us/step - loss: 0.3316 - acc: 0.8621 - val_loss: 0.3731 - val_acc: 0.8482\n",
            "Epoch 52/100\n",
            "5359/5359 [==============================] - 1s 158us/step - loss: 0.3296 - acc: 0.8604 - val_loss: 0.3761 - val_acc: 0.8455\n",
            "Epoch 53/100\n",
            "5359/5359 [==============================] - 1s 169us/step - loss: 0.3307 - acc: 0.8617 - val_loss: 0.3783 - val_acc: 0.8489\n",
            "Epoch 54/100\n",
            "5359/5359 [==============================] - 1s 164us/step - loss: 0.3292 - acc: 0.8630 - val_loss: 0.3801 - val_acc: 0.8485\n",
            "Epoch 55/100\n",
            "5359/5359 [==============================] - 1s 168us/step - loss: 0.3305 - acc: 0.8619 - val_loss: 0.3722 - val_acc: 0.8493\n",
            "Epoch 56/100\n",
            "5359/5359 [==============================] - 1s 158us/step - loss: 0.3294 - acc: 0.8634 - val_loss: 0.3737 - val_acc: 0.8482\n",
            "Epoch 57/100\n",
            "5359/5359 [==============================] - 1s 158us/step - loss: 0.3301 - acc: 0.8630 - val_loss: 0.3736 - val_acc: 0.8501\n",
            "Epoch 58/100\n",
            "5359/5359 [==============================] - 1s 165us/step - loss: 0.3298 - acc: 0.8636 - val_loss: 0.3800 - val_acc: 0.8482\n",
            "Epoch 59/100\n",
            "5359/5359 [==============================] - 1s 172us/step - loss: 0.3284 - acc: 0.8615 - val_loss: 0.3774 - val_acc: 0.8482\n",
            "Epoch 60/100\n",
            "5359/5359 [==============================] - 1s 161us/step - loss: 0.3297 - acc: 0.8617 - val_loss: 0.3801 - val_acc: 0.8440\n",
            "Epoch 61/100\n",
            "5359/5359 [==============================] - 1s 175us/step - loss: 0.3292 - acc: 0.8627 - val_loss: 0.3763 - val_acc: 0.8459\n",
            "Epoch 62/100\n",
            "5359/5359 [==============================] - 1s 162us/step - loss: 0.3297 - acc: 0.8636 - val_loss: 0.3748 - val_acc: 0.8493\n",
            "Epoch 63/100\n",
            "5359/5359 [==============================] - 1s 169us/step - loss: 0.3286 - acc: 0.8621 - val_loss: 0.3755 - val_acc: 0.8497\n",
            "Epoch 64/100\n",
            "5359/5359 [==============================] - 1s 161us/step - loss: 0.3287 - acc: 0.8634 - val_loss: 0.3766 - val_acc: 0.8489\n",
            "Epoch 65/100\n",
            "5359/5359 [==============================] - 1s 162us/step - loss: 0.3292 - acc: 0.8632 - val_loss: 0.3769 - val_acc: 0.8478\n",
            "Epoch 66/100\n",
            "5359/5359 [==============================] - 1s 179us/step - loss: 0.3290 - acc: 0.8619 - val_loss: 0.3741 - val_acc: 0.8512\n",
            "Epoch 67/100\n",
            "5359/5359 [==============================] - 1s 159us/step - loss: 0.3277 - acc: 0.8612 - val_loss: 0.3775 - val_acc: 0.8485\n",
            "Epoch 68/100\n",
            "5359/5359 [==============================] - 1s 163us/step - loss: 0.3290 - acc: 0.8632 - val_loss: 0.3738 - val_acc: 0.8497\n",
            "Epoch 69/100\n",
            "5359/5359 [==============================] - 1s 161us/step - loss: 0.3292 - acc: 0.8606 - val_loss: 0.3749 - val_acc: 0.8489\n",
            "Epoch 70/100\n",
            "5359/5359 [==============================] - 1s 163us/step - loss: 0.3280 - acc: 0.8640 - val_loss: 0.3737 - val_acc: 0.8466\n",
            "Epoch 71/100\n",
            "5359/5359 [==============================] - 1s 159us/step - loss: 0.3282 - acc: 0.8623 - val_loss: 0.3751 - val_acc: 0.8493\n",
            "Epoch 72/100\n",
            "5359/5359 [==============================] - 1s 161us/step - loss: 0.3287 - acc: 0.8619 - val_loss: 0.3758 - val_acc: 0.8482\n",
            "Epoch 73/100\n",
            "5359/5359 [==============================] - 1s 168us/step - loss: 0.3277 - acc: 0.8623 - val_loss: 0.3735 - val_acc: 0.8501\n",
            "Epoch 74/100\n",
            "5359/5359 [==============================] - 1s 169us/step - loss: 0.3275 - acc: 0.8610 - val_loss: 0.3765 - val_acc: 0.8489\n",
            "Epoch 75/100\n",
            "5359/5359 [==============================] - 1s 163us/step - loss: 0.3287 - acc: 0.8625 - val_loss: 0.3748 - val_acc: 0.8489\n",
            "Epoch 76/100\n",
            "5359/5359 [==============================] - 1s 167us/step - loss: 0.3272 - acc: 0.8636 - val_loss: 0.3748 - val_acc: 0.8516\n",
            "Epoch 77/100\n",
            "5359/5359 [==============================] - 1s 172us/step - loss: 0.3280 - acc: 0.8623 - val_loss: 0.3739 - val_acc: 0.8516\n",
            "Epoch 78/100\n",
            "5359/5359 [==============================] - 1s 185us/step - loss: 0.3269 - acc: 0.8630 - val_loss: 0.3759 - val_acc: 0.8508\n",
            "Epoch 79/100\n",
            "5359/5359 [==============================] - 1s 183us/step - loss: 0.3273 - acc: 0.8623 - val_loss: 0.3752 - val_acc: 0.8501\n",
            "Epoch 80/100\n",
            "5359/5359 [==============================] - 1s 174us/step - loss: 0.3272 - acc: 0.8640 - val_loss: 0.3737 - val_acc: 0.8516\n",
            "Epoch 81/100\n",
            "5359/5359 [==============================] - 1s 175us/step - loss: 0.3273 - acc: 0.8632 - val_loss: 0.3769 - val_acc: 0.8485\n",
            "Epoch 82/100\n",
            "5359/5359 [==============================] - 1s 183us/step - loss: 0.3271 - acc: 0.8625 - val_loss: 0.3765 - val_acc: 0.8497\n",
            "Epoch 83/100\n",
            "5359/5359 [==============================] - 1s 173us/step - loss: 0.3273 - acc: 0.8602 - val_loss: 0.3753 - val_acc: 0.8493\n",
            "Epoch 84/100\n",
            "5359/5359 [==============================] - 1s 175us/step - loss: 0.3274 - acc: 0.8617 - val_loss: 0.3787 - val_acc: 0.8512\n",
            "Epoch 85/100\n",
            "5359/5359 [==============================] - 1s 178us/step - loss: 0.3267 - acc: 0.8630 - val_loss: 0.3754 - val_acc: 0.8520\n",
            "Epoch 86/100\n",
            "5359/5359 [==============================] - 1s 172us/step - loss: 0.3266 - acc: 0.8673 - val_loss: 0.3777 - val_acc: 0.8520\n",
            "Epoch 87/100\n",
            "5359/5359 [==============================] - 1s 171us/step - loss: 0.3272 - acc: 0.8630 - val_loss: 0.3756 - val_acc: 0.8508\n",
            "Epoch 88/100\n",
            "5359/5359 [==============================] - 1s 166us/step - loss: 0.3267 - acc: 0.8630 - val_loss: 0.3744 - val_acc: 0.8508\n",
            "Epoch 89/100\n",
            "5359/5359 [==============================] - 1s 162us/step - loss: 0.3265 - acc: 0.8628 - val_loss: 0.3766 - val_acc: 0.8493\n",
            "Epoch 90/100\n",
            "5359/5359 [==============================] - 1s 176us/step - loss: 0.3263 - acc: 0.8634 - val_loss: 0.3748 - val_acc: 0.8508\n",
            "Epoch 91/100\n",
            "5359/5359 [==============================] - 1s 184us/step - loss: 0.3263 - acc: 0.8638 - val_loss: 0.3762 - val_acc: 0.8497\n",
            "Epoch 92/100\n",
            "5359/5359 [==============================] - 1s 184us/step - loss: 0.3268 - acc: 0.8621 - val_loss: 0.3733 - val_acc: 0.8516\n",
            "Epoch 93/100\n",
            "5359/5359 [==============================] - 1s 176us/step - loss: 0.3268 - acc: 0.8617 - val_loss: 0.3743 - val_acc: 0.8523\n",
            "Epoch 94/100\n",
            "5359/5359 [==============================] - 1s 184us/step - loss: 0.3256 - acc: 0.8632 - val_loss: 0.3753 - val_acc: 0.8508\n",
            "Epoch 95/100\n",
            "5359/5359 [==============================] - 1s 172us/step - loss: 0.3271 - acc: 0.8602 - val_loss: 0.3745 - val_acc: 0.8508\n",
            "Epoch 96/100\n",
            "5359/5359 [==============================] - 1s 164us/step - loss: 0.3262 - acc: 0.8628 - val_loss: 0.3713 - val_acc: 0.8535\n",
            "Epoch 97/100\n",
            "5359/5359 [==============================] - 1s 174us/step - loss: 0.3268 - acc: 0.8615 - val_loss: 0.3726 - val_acc: 0.8520\n",
            "Epoch 98/100\n",
            "5359/5359 [==============================] - 1s 173us/step - loss: 0.3250 - acc: 0.8638 - val_loss: 0.3749 - val_acc: 0.8489\n",
            "Epoch 99/100\n",
            "5359/5359 [==============================] - 1s 164us/step - loss: 0.3258 - acc: 0.8660 - val_loss: 0.3754 - val_acc: 0.8489\n",
            "Epoch 100/100\n",
            "5359/5359 [==============================] - 1s 170us/step - loss: 0.3268 - acc: 0.8623 - val_loss: 0.3740 - val_acc: 0.8520\n"
          ],
          "name": "stdout"
        }
      ]
    },
    {
      "cell_type": "code",
      "metadata": {
        "id": "KxnvR6iPcGdo",
        "colab_type": "code",
        "colab": {
          "base_uri": "https://localhost:8080/",
          "height": 312
        },
        "outputId": "7ffdeffc-f179-4376-ad23-b16a77fa2ead"
      },
      "source": [
        "# list all data in history\n",
        "\n",
        "print(model_history.history.keys())\n",
        "# summarize history for accuracy\n",
        "plt.plot(model_history.history['acc'])\n",
        "plt.plot(model_history.history['val_acc'])\n",
        "plt.title('model accuracy')\n",
        "plt.ylabel('accuracy')\n",
        "plt.xlabel('epoch')\n",
        "plt.legend(['train', 'test'], loc='upper left')\n",
        "plt.show()"
      ],
      "execution_count": 48,
      "outputs": [
        {
          "output_type": "stream",
          "text": [
            "dict_keys(['val_loss', 'val_acc', 'loss', 'acc'])\n"
          ],
          "name": "stdout"
        },
        {
          "output_type": "display_data",
          "data": {
            "image/png": "[encoded data removed]",
            "text/plain": [
              "<Figure size 432x288 with 1 Axes>"
            ]
          },
          "metadata": {
            "tags": []
          }
        }
      ]
    },
    {
      "cell_type": "code",
      "metadata": {
        "id": "p2UjA37acMzK",
        "colab_type": "code",
        "colab": {
          "base_uri": "https://localhost:8080/",
          "height": 295
        },
        "outputId": "87bc563d-953e-4565-aaac-3006601883ea"
      },
      "source": [
        "# summarize history for loss\n",
        "plt.plot(model_history.history['loss'])\n",
        "plt.plot(model_history.history['val_loss'])\n",
        "plt.title('model loss')\n",
        "plt.ylabel('loss')\n",
        "plt.xlabel('epoch')\n",
        "plt.legend(['train', 'test'], loc='upper left')\n",
        "plt.show()"
      ],
      "execution_count": 49,
      "outputs": [
        {
          "output_type": "display_data",
          "data": {
            "image/png": "[encoded data removed]",
            "text/plain": [
              "<Figure size 432x288 with 1 Axes>"
            ]
          },
          "metadata": {
            "tags": []
          }
        }
      ]
    },
    {
      "cell_type": "code",
      "metadata": {
        "id": "uPR6v6FDcSUL",
        "colab_type": "code",
        "colab": {
          "base_uri": "https://localhost:8080/",
          "height": 136
        },
        "outputId": "2b27323c-bef7-41ce-f394-26ef529ea0fa"
      },
      "source": [
        "# Part 3 - Making the predictions and evaluating the model\n",
        "\n",
        "# Predicting the Test set results\n",
        "y_pred = classifier.predict(X_test)\n",
        "y_pred = (y_pred > 0.5)\n",
        "y_pred"
      ],
      "execution_count": 62,
      "outputs": [
        {
          "output_type": "execute_result",
          "data": {
            "text/plain": [
              "array([[False],\n",
              "       [False],\n",
              "       [False],\n",
              "       ...,\n",
              "       [False],\n",
              "       [False],\n",
              "       [False]])"
            ]
          },
          "metadata": {
            "tags": []
          },
          "execution_count": 62
        }
      ]
    },
    {
      "cell_type": "code",
      "metadata": {
        "id": "fCa4NOZCcVXQ",
        "colab_type": "code",
        "colab": {
          "base_uri": "https://localhost:8080/",
          "height": 51
        },
        "outputId": "a89474d2-586d-47a0-fa31-954c349fb026"
      },
      "source": [
        "# Making the Confusion Matrix\n",
        "from sklearn.metrics import confusion_matrix\n",
        "cm = confusion_matrix(y_test, y_pred)\n",
        "cm"
      ],
      "execution_count": 54,
      "outputs": [
        {
          "output_type": "execute_result",
          "data": {
            "text/plain": [
              "array([[1519,   76],\n",
              "       [ 215,  190]])"
            ]
          },
          "metadata": {
            "tags": []
          },
          "execution_count": 54
        }
      ]
    },
    {
      "cell_type": "code",
      "metadata": {
        "id": "N_83CLmYcXis",
        "colab_type": "code",
        "colab": {
          "base_uri": "https://localhost:8080/",
          "height": 34
        },
        "outputId": "356fdd38-6292-4aee-9ebf-a6ffe98fe609"
      },
      "source": [
        "\n",
        "# Calculate the Accuracy\n",
        "from sklearn.metrics import accuracy_score\n",
        "score=accuracy_score(y_pred,y_test)\n",
        "score"
      ],
      "execution_count": 53,
      "outputs": [
        {
          "output_type": "execute_result",
          "data": {
            "text/plain": [
              "0.8545"
            ]
          },
          "metadata": {
            "tags": []
          },
          "execution_count": 53
        }
      ]
    }
  ]
}